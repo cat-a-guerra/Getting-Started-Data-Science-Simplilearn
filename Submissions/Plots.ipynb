{
  "metadata": {
    "language_info": {
      "codemirror_mode": {
        "name": "python",
        "version": 3
      },
      "file_extension": ".py",
      "mimetype": "text/x-python",
      "name": "python",
      "nbconvert_exporter": "python",
      "pygments_lexer": "ipython3",
      "version": "3.8"
    },
    "kernelspec": {
      "name": "python",
      "display_name": "Python (Pyodide)",
      "language": "python"
    }
  },
  "nbformat_minor": 4,
  "nbformat": 4,
  "cells": [
    {
      "cell_type": "code",
      "source": "## Histogram",
      "metadata": {},
      "execution_count": null,
      "outputs": []
    },
    {
      "cell_type": "code",
      "source": "# import the boston database from the sklearn library\nfrom sklearn.datasets import load_boston\n# import matplotlib\nimport matplotlib.pyplot as plt\nfrom matplotlib import style\n%matplotlib inline",
      "metadata": {},
      "execution_count": null,
      "outputs": []
    },
    {
      "cell_type": "code",
      "source": "# load boston dataset\nboston_real_state_data = load_boston()\nprint(boston_real_state_data.DESCR)",
      "metadata": {},
      "execution_count": null,
      "outputs": []
    },
    {
      "cell_type": "code",
      "source": "# define the x-axis for the data and y-axis for the target\nx_axis = boston_real_state_data.data\ny_axis = boston_real_state_data.target",
      "metadata": {},
      "execution_count": null,
      "outputs": []
    },
    {
      "cell_type": "code",
      "source": "# plot histogram\n# specify plot style, figure style, number of bins, and labels of x- and y-axis\nstyle.use('ggplot')\nplt.figure(figsize=(7,7))\nplt.hist(y_axis, bins=50)\nplt.xlabel('price in 1000s USD')\nplt.ylabel('number of houses')\nplt.show()",
      "metadata": {},
      "execution_count": null,
      "outputs": []
    },
    {
      "cell_type": "code",
      "source": "## Scatter plot",
      "metadata": {},
      "execution_count": null,
      "outputs": []
    },
    {
      "cell_type": "code",
      "source": "# plot scatterplot\n# specify plot style, size, datasets, and labels of the plot\nstyle.use('ggplot')\nplt.figure(figsize=(7,7))\nplt.scatter(boston_real_state_data.data[:,5], boston_real_state_data.target)\nplt.xlabel('price in 1000s USD')\nplt.ylabel('number of houses')\nplt.show()",
      "metadata": {},
      "execution_count": null,
      "outputs": []
    },
    {
      "cell_type": "code",
      "source": "## Heatmap",
      "metadata": {},
      "execution_count": null,
      "outputs": []
    },
    {
      "cell_type": "code",
      "source": "#import matplotlib and seaborn\nimport matplotlib.pyplot as plt\nimport seaborn as sns\n%matplotlib inline",
      "metadata": {},
      "execution_count": null,
      "outputs": []
    },
    {
      "cell_type": "code",
      "source": "# Load flight data from sns dataset\nflight_data = sns.load_dataset('flights')\nflight_data.head()",
      "metadata": {},
      "execution_count": null,
      "outputs": []
    },
    {
      "cell_type": "code",
      "source": "# pivot method to rearrange the dataset\nflight_data = flight_data.pivot('month', 'year', 'passengers')\nflight_data",
      "metadata": {},
      "execution_count": null,
      "outputs": []
    },
    {
      "cell_type": "code",
      "source": "# use heatmap method to generate the heatmap of the flights data\nsns.heatmap(flight_data)",
      "metadata": {},
      "execution_count": null,
      "outputs": []
    },
    {
      "cell_type": "code",
      "source": "## Pie chart",
      "metadata": {},
      "execution_count": null,
      "outputs": []
    },
    {
      "cell_type": "code",
      "source": "# import matplotlib\nimport matplotlib.pyplot as plt\n%matplotlib inline",
      "metadata": {},
      "execution_count": null,
      "outputs": []
    },
    {
      "cell_type": "code",
      "source": "# job data in percentile\njob_data = ['40', '20', '17', '8', '5', '10']\n\n# define label as different departments\nlabel = 'IT', 'Finance', 'Marketing', 'Admin', 'HR', 'Operations'\n\n# explode the 1st slice which is IT\nexplode = (0.05, 0, 0, 0, 0, 0)\n\n# draw the pie chart and set the parameters\nplt.pie(job_data, labels=label, explode=explode)\n\n# show the plot\nplt.show()",
      "metadata": {},
      "execution_count": null,
      "outputs": []
    },
    {
      "cell_type": "code",
      "source": "## Subplots",
      "metadata": {},
      "execution_count": null,
      "outputs": []
    },
    {
      "cell_type": "code",
      "source": "import matplotlib.pyplot as plt\nfrom matplotlib import style\n%matplotlib inline",
      "metadata": {},
      "execution_count": null,
      "outputs": []
    },
    {
      "cell_type": "code",
      "source": "# define temp, wind, humidity, precipitation and time hrs data\ntemp_data = [79,75,74,75,73,81,77,81,95,93,95,97,98,99,98,98,97,92,94,92,83,83,83,81]\nwind_data = [14,12,10,13,9,13,12,13,17,13,17,18,17,7,25,10,10,16,0,16,9,9,9,5]\ntime_hrs = [1,2,3,4,5,6,7,8,9,10,11,12,13,14,15,16,17,18,19,20,21,22,23,24]\nhumidity_data = [73,76,78,81,81,84,84,79,71,64,58,55,51,48,46,46,45,46,48,53,60,67,69,73]\nprecipitation_data = [26,42,69,48,11,16,5,11,3,48,26,21,58,69,74,53,79,53,58,26,74,95,69,78]",
      "metadata": {},
      "execution_count": null,
      "outputs": []
    },
    {
      "cell_type": "code",
      "source": "# draw subplots for (1,2,1) and (1,2,2)\n# specify the figure size, subplot space, title, color for time and temperature, and linestyle and width\nplt.figure(figsize=(8,4))\nplt.subplots_adjust(hspace=.25)\nplt.subplot(1,2,1)\nplt.title('Temp')\nplt.plot(time_hrs, temp_data, color='b', linestyle='-', linewidth=1)\nplt.subplot(1,2,2)\nplt.title('Wind')\nplt.plot(time_hrs, wind_data, color='r', linestyle='-', linewidth=1)",
      "metadata": {},
      "execution_count": null,
      "outputs": []
    },
    {
      "cell_type": "code",
      "source": "# draw subplots for (2,1,1) and (2,1,2)\nplt.figure(figsize=(6,6))\nplt.subplots_adjust(hspace=.25)\nplt.subplot(2,1,1)\nplt.title('Humidity')\nplt.plot(time_hrs, humidity_data, color='b', linestyle='-', linewidth=1)\nplt.subplot(2,1,2)\nplt.title('Precipitation')\nplt.plot(time_hrs, precipitation_data, color='r', linestyle='-', linewidth=1)\nplt.show()",
      "metadata": {},
      "execution_count": null,
      "outputs": []
    },
    {
      "cell_type": "code",
      "source": "# draw subplots for (2,2,1), (2,2,2), (2,2,3), and (2,2,4)\nplt.figure(figsize=(9,9))\nplt.subplots_adjust(hspace=.3)\nplt.subplot(2,2,1)\nplt.title('Temp (F)')\nplt.plot(time_hrs, temp_data, color='b', linestyle='-', linewidth=1)\nplt.subplot(2,2,2)\nplt.title('Wind (MPH)')\nplt.plot(time_hrs, wind_data, color='r', linestyle='-', linewidth=1)\nplt.subplot(2,2,3)\nplt.title('Humidity (%)')\nplt.plot(time_hrs, humidity_data, color='b', linestyle='-', linewidth=1)\nplt.subplot(2,1,2)\nplt.title('Precipitation (%)')\nplt.plot(time_hrs, precipitation_data, color='y', linestyle='-', linewidth=1)\nplt.show()",
      "metadata": {},
      "execution_count": null,
      "outputs": []
    }
  ]
}