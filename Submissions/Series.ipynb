{
  "metadata": {
    "language_info": {
      "codemirror_mode": {
        "name": "python",
        "version": 3
      },
      "file_extension": ".py",
      "mimetype": "text/x-python",
      "name": "python",
      "nbconvert_exporter": "python",
      "pygments_lexer": "ipython3",
      "version": "3.8"
    },
    "kernelspec": {
      "name": "python",
      "display_name": "Python (Pyodide)",
      "language": "python"
    }
  },
  "nbformat_minor": 4,
  "nbformat": 4,
  "cells": [
    {
      "cell_type": "code",
      "source": "import pandas as pd\nimport numpy as np",
      "metadata": {
        "trusted": true
      },
      "execution_count": 1,
      "outputs": []
    },
    {
      "cell_type": "code",
      "source": "# Pass list as argument for series\nfirst_series = pd.Series(list('abcdef'))\nprint(first_series)",
      "metadata": {
        "trusted": true
      },
      "execution_count": 2,
      "outputs": [
        {
          "name": "stdout",
          "text": "0    a\n1    b\n2    c\n3    d\n4    e\n5    f\ndtype: object\n",
          "output_type": "stream"
        }
      ]
    },
    {
      "cell_type": "code",
      "source": "# Pass ndarray as argument for series\nnp_country = np.array(['Luxembourg', 'Norway', 'Japan', 'Switzerland', 'United States', 'Qatar', 'Iceland', 'Sweden', 'Singapore', 'Denmark'])",
      "metadata": {
        "trusted": true
      },
      "execution_count": 3,
      "outputs": []
    },
    {
      "cell_type": "code",
      "source": "s_country = pd.Series(np_country)\nprint(s_country)",
      "metadata": {
        "trusted": true
      },
      "execution_count": 4,
      "outputs": [
        {
          "name": "stdout",
          "text": "0       Luxembourg\n1           Norway\n2            Japan\n3      Switzerland\n4    United States\n5            Qatar\n6          Iceland\n7           Sweden\n8        Singapore\n9          Denmark\ndtype: object\n",
          "output_type": "stream"
        }
      ]
    },
    {
      "cell_type": "code",
      "source": "# Pass dict as argument for series\ndict_country_gdp_trillion = pd.Series([20.89, 14.72, 5.06, 3.85, 2.67, 2.66, 2.63, 1.89, 1.64, 1.63, 1.48, 1.44, 1.32, 1.28, 1.05], \n                                      index=['United States', 'China', 'Japan', 'Germany', 'United Kingdom', 'India', 'France', 'Italy', \n                                             'Canada', 'South Korea', 'Russia', 'Brazil', 'Australia', 'Spain', 'Indonesia'])\nprint(dict_country_gdp_trillion)                    ",
      "metadata": {
        "trusted": true
      },
      "execution_count": 5,
      "outputs": [
        {
          "name": "stdout",
          "text": "United States     20.89\nChina             14.72\nJapan              5.06\nGermany            3.85\nUnited Kingdom     2.67\nIndia              2.66\nFrance             2.63\nItaly              1.89\nCanada             1.64\nSouth Korea        1.63\nRussia             1.48\nBrazil             1.44\nAustralia          1.32\nSpain              1.28\nIndonesia          1.05\ndtype: float64\n",
          "output_type": "stream"
        }
      ]
    },
    {
      "cell_type": "code",
      "source": "# Pass scalar as argument for series\nscalar_series = pd.Series(5., index=['a', 'b', 'c', 'd', 'e'])\nscalar_series",
      "metadata": {
        "trusted": true
      },
      "execution_count": 6,
      "outputs": [
        {
          "execution_count": 6,
          "output_type": "execute_result",
          "data": {
            "text/plain": "a    5.0\nb    5.0\nc    5.0\nd    5.0\ne    5.0\ndtype: float64"
          },
          "metadata": {}
        }
      ]
    },
    {
      "cell_type": "code",
      "source": "## Accessing elements from Series\ndict_country_gdp_trillion[0]   # first element",
      "metadata": {
        "trusted": true
      },
      "execution_count": 7,
      "outputs": [
        {
          "execution_count": 7,
          "output_type": "execute_result",
          "data": {
            "text/plain": "20.89"
          },
          "metadata": {}
        }
      ]
    },
    {
      "cell_type": "code",
      "source": "dict_country_gdp_trillion[0:5]   # data slicing --> first 5 elements",
      "metadata": {
        "trusted": true
      },
      "execution_count": 8,
      "outputs": [
        {
          "execution_count": 8,
          "output_type": "execute_result",
          "data": {
            "text/plain": "United States     20.89\nChina             14.72\nJapan              5.06\nGermany            3.85\nUnited Kingdom     2.67\ndtype: float64"
          },
          "metadata": {}
        }
      ]
    },
    {
      "cell_type": "code",
      "source": "dict_country_gdp_trillion.loc['United States']",
      "metadata": {
        "trusted": true
      },
      "execution_count": 9,
      "outputs": [
        {
          "execution_count": 9,
          "output_type": "execute_result",
          "data": {
            "text/plain": "20.89"
          },
          "metadata": {}
        }
      ]
    },
    {
      "cell_type": "code",
      "source": "dict_country_gdp_trillion.iloc[0]",
      "metadata": {
        "trusted": true
      },
      "execution_count": 10,
      "outputs": [
        {
          "execution_count": 10,
          "output_type": "execute_result",
          "data": {
            "text/plain": "20.89"
          },
          "metadata": {}
        }
      ]
    },
    {
      "cell_type": "code",
      "source": "## Vectorized operations\nfirst_vector_series = pd.Series([1,2,3,4], index=['a', 'b', 'c', 'd'])\nsecond_vector_series = pd.Series([10,20,30,40], index=['a', 'b', 'c', 'd'])\nfirst_vector_series+second_vector_series",
      "metadata": {
        "trusted": true
      },
      "execution_count": 11,
      "outputs": [
        {
          "execution_count": 11,
          "output_type": "execute_result",
          "data": {
            "text/plain": "a    11\nb    22\nc    33\nd    44\ndtype: int64"
          },
          "metadata": {}
        }
      ]
    },
    {
      "cell_type": "code",
      "source": "second_vector_series = pd.Series([10,20,30,40], index=['a', 'b', 'd', 'c'])\nfirst_vector_series+second_vector_series",
      "metadata": {
        "trusted": true
      },
      "execution_count": 12,
      "outputs": [
        {
          "execution_count": 12,
          "output_type": "execute_result",
          "data": {
            "text/plain": "a    11\nb    22\nc    43\nd    34\ndtype: int64"
          },
          "metadata": {}
        }
      ]
    },
    {
      "cell_type": "code",
      "source": "second_vector_series = pd.Series([10,20,30,40], index=['a', 'b', 'e', 'f'])\nfirst_vector_series+second_vector_series",
      "metadata": {
        "trusted": true
      },
      "execution_count": 13,
      "outputs": [
        {
          "execution_count": 13,
          "output_type": "execute_result",
          "data": {
            "text/plain": "a    11.0\nb    22.0\nc     NaN\nd     NaN\ne     NaN\nf     NaN\ndtype: float64"
          },
          "metadata": {}
        }
      ]
    },
    {
      "cell_type": "code",
      "source": "",
      "metadata": {},
      "execution_count": null,
      "outputs": []
    }
  ]
}