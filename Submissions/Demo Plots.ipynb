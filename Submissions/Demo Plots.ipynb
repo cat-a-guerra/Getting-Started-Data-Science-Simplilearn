{
  "metadata": {
    "language_info": {
      "codemirror_mode": {
        "name": "python",
        "version": 3
      },
      "file_extension": ".py",
      "mimetype": "text/x-python",
      "name": "python",
      "nbconvert_exporter": "python",
      "pygments_lexer": "ipython3",
      "version": "3.8"
    },
    "kernelspec": {
      "name": "python",
      "display_name": "Python (Pyodide)",
      "language": "python"
    }
  },
  "nbformat_minor": 4,
  "nbformat": 4,
  "cells": [
    {
      "cell_type": "code",
      "source": "## Pair plot",
      "metadata": {},
      "execution_count": null,
      "outputs": []
    },
    {
      "cell_type": "code",
      "source": "import pandas as pd\nimport matplotlib.pyplot as plt\nimport seaborn as sns\n%matplotlib inline",
      "metadata": {},
      "execution_count": null,
      "outputs": []
    },
    {
      "cell_type": "code",
      "source": "# import the auto dataset\ndf_auto_dataset = pd.read_csv('C:\\\\dataset\\\\auto_data_mpg.csv')",
      "metadata": {},
      "execution_count": null,
      "outputs": []
    },
    {
      "cell_type": "code",
      "source": "# view top 5 records\ndf_auto_dataset.head()",
      "metadata": {},
      "execution_count": null,
      "outputs": []
    },
    {
      "cell_type": "code",
      "source": "# Write a user defined function for origin\n# 1 - USA, 2 - Europe, 3 - Asia\ndef origin(num):\n    if num==1:\n        return 'USA'\n    elif num==2:\n        return 'Europe'\n    else:\n        return 'Asia'\n\n# use apply function  \ndf_auto_dataset['origin'] = df_auto_dataset['origin'].apply(origin)",
      "metadata": {},
      "execution_count": null,
      "outputs": []
    },
    {
      "cell_type": "code",
      "source": "# view the first 30 elements \ndf_auto_dataset.head(30)",
      "metadata": {},
      "execution_count": null,
      "outputs": []
    },
    {
      "cell_type": "code",
      "source": "# draw a pair plot using sns for mpg, weight, origin and with hue origin, set the size to 4\n# hue is a variable in the dataset to map plot aspects to different colors\nsns.pairplot(df_auto_dataset[['mpg', 'weight', 'origin']], hue='origin', size=4)",
      "metadata": {},
      "execution_count": null,
      "outputs": []
    },
    {
      "cell_type": "code",
      "source": "## Pie Chart",
      "metadata": {},
      "execution_count": null,
      "outputs": []
    },
    {
      "cell_type": "code",
      "source": "import matplotlib.pyplot as plt\n%matplotlib inline",
      "metadata": {},
      "execution_count": null,
      "outputs": []
    },
    {
      "cell_type": "code",
      "source": "cause = 'Chronic Diseases', 'Unintentional Injuries', 'Alzheimers', 'Influenza and Pneumonia', 'Sepsis', 'Others'\npercentile = [62, 5, 4, 2, 1, 26]",
      "metadata": {},
      "execution_count": null,
      "outputs": []
    },
    {
      "cell_type": "code",
      "source": "# set plot properties\n\n# set figure size\nplt.figure(figsize=(10,10))\n\n# slice the largest piece based on the percentile -> explode\nexplode = (0.05, 0, 0, 0, 0, 0)\n\n# pie plot to pass the parameters\nplt.pie(percentile, labels=cause, explode=explode, autopct='%1.1f%%', startangle=70) # autopct will embed the percentile value to each pie slice\n\n# set axis equal to draw pie as circle\nplt.axis('equal')\n\n# set the title of the pie chart\nplt.title('Ohio State: 2012 - Leading causes of death')\n\n# show the plot\nplt.show()",
      "metadata": {},
      "execution_count": null,
      "outputs": []
    }
  ]
}