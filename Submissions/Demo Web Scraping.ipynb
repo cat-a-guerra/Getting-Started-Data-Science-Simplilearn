{
  "metadata": {
    "language_info": {
      "codemirror_mode": {
        "name": "python",
        "version": 3
      },
      "file_extension": ".py",
      "mimetype": "text/x-python",
      "name": "python",
      "nbconvert_exporter": "python",
      "pygments_lexer": "ipython3",
      "version": "3.8"
    },
    "kernelspec": {
      "name": "python",
      "display_name": "Python (Pyodide)",
      "language": "python"
    }
  },
  "nbformat_minor": 4,
  "nbformat": 4,
  "cells": [
    {
      "cell_type": "code",
      "source": "from bs4 import BeautifulSoup",
      "metadata": {
        "trusted": true
      },
      "execution_count": 3,
      "outputs": []
    },
    {
      "cell_type": "code",
      "source": "import requests",
      "metadata": {},
      "execution_count": null,
      "outputs": []
    },
    {
      "cell_type": "code",
      "source": "# url for webscraping\nurl = 'http://www.simplilearn.com'",
      "metadata": {},
      "execution_count": null,
      "outputs": []
    },
    {
      "cell_type": "code",
      "source": "# access the url with request object\nresult = request.get(url)\n\n# scrape the web page content\nwebpage = result.content\n\n# create a soup object for parsing web page using html parser\nsl_soup = BeautifulSoup(webpage, 'html.parser')",
      "metadata": {},
      "execution_count": null,
      "outputs": []
    },
    {
      "cell_type": "code",
      "source": "# close the result object\nresult.close()",
      "metadata": {},
      "execution_count": null,
      "outputs": []
    },
    {
      "cell_type": "code",
      "source": "# view the content of the soup object\nsl_soup.contents",
      "metadata": {},
      "execution_count": null,
      "outputs": []
    },
    {
      "cell_type": "code",
      "source": "# use prettify method to view well formatted output (html tags)\nprint(sl_soup.prettify())",
      "metadata": {},
      "execution_count": null,
      "outputs": []
    },
    {
      "cell_type": "code",
      "source": "# view the head of the soup object\nprint(sl_soup.head)",
      "metadata": {},
      "execution_count": null,
      "outputs": []
    },
    {
      "cell_type": "code",
      "source": "# view the title of the web page\nsl_soup.title",
      "metadata": {},
      "execution_count": null,
      "outputs": []
    },
    {
      "cell_type": "code",
      "source": "# find all the links present on the web page\nfor href in sl_soup.findAll('a', href=True):\n    print(href['href'])\n",
      "metadata": {},
      "execution_count": null,
      "outputs": []
    }
  ]
}