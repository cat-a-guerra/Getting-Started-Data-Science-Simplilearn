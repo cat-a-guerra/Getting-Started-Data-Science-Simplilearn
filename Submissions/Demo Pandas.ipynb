{
  "metadata": {
    "language_info": {
      "codemirror_mode": {
        "name": "python",
        "version": 3
      },
      "file_extension": ".py",
      "mimetype": "text/x-python",
      "name": "python",
      "nbconvert_exporter": "python",
      "pygments_lexer": "ipython3",
      "version": "3.8"
    },
    "kernelspec": {
      "name": "python",
      "display_name": "Python (Pyodide)",
      "language": "python"
    }
  },
  "nbformat_minor": 4,
  "nbformat": 4,
  "cells": [
    {
      "cell_type": "code",
      "source": "## Project 1",
      "metadata": {},
      "execution_count": null,
      "outputs": []
    },
    {
      "cell_type": "code",
      "source": "import pandas as pd",
      "metadata": {},
      "execution_count": null,
      "outputs": []
    },
    {
      "cell_type": "code",
      "source": "# read the dataset\ndf_faa_dataset = pd.read_csv('C:\\\\dataset\\\\faa_ai_prelim.csv')",
      "metadata": {},
      "execution_count": null,
      "outputs": []
    },
    {
      "cell_type": "code",
      "source": "# view the shape\ndf_faa_dataset.shape",
      "metadata": {},
      "execution_count": null,
      "outputs": []
    },
    {
      "cell_type": "code",
      "source": "# see the first five elements \ndf_faa_dataset.head(5)",
      "metadata": {},
      "execution_count": null,
      "outputs": []
    },
    {
      "cell_type": "code",
      "source": "# view all columns present in the dataset\ndf_faa_dataset.columns",
      "metadata": {},
      "execution_count": null,
      "outputs": []
    },
    {
      "cell_type": "code",
      "source": "# create a new dataframe by filtering out only the required columns\ndf_analyze_dataset = df_faa_dataset[['ACFT_MAKE_NAME', 'LOC_STATE_NAME', 'ACFT_MODEL_NAME', 'RMK_TEXT', 'FLT_PHASE', 'EVENT_TYPE_DESC', 'FATAL_FLAG']]",
      "metadata": {},
      "execution_count": null,
      "outputs": []
    },
    {
      "cell_type": "code",
      "source": "# view type of object\ntype(df_analyze_dataset)",
      "metadata": {},
      "execution_count": null,
      "outputs": []
    },
    {
      "cell_type": "code",
      "source": "# view first five observations\ndf_analyze_dataset.head()",
      "metadata": {},
      "execution_count": null,
      "outputs": []
    },
    {
      "cell_type": "code",
      "source": "# replace NaN values existing in the Fatal Flag column with the word 'No'\ndf_analyze_dataset['FATAL_FLAG'].fillna(value='No', inplace=True)",
      "metadata": {},
      "execution_count": null,
      "outputs": []
    },
    {
      "cell_type": "code",
      "source": "# view first five observations to see if it was replaced\ndf_analyze_dataset.head()",
      "metadata": {},
      "execution_count": null,
      "outputs": []
    },
    {
      "cell_type": "code",
      "source": "# view the shape\ndf_analyze_dataset.shape",
      "metadata": {},
      "execution_count": null,
      "outputs": []
    },
    {
      "cell_type": "code",
      "source": "# drop values where ACFT_MAKE_NAME is not available\ndf_final_dataset = df_analyze_dataset.dropna(subset=['ACFT_MAKE_NAME'])",
      "metadata": {},
      "execution_count": null,
      "outputs": []
    },
    {
      "cell_type": "code",
      "source": "# view the shape\ndf_final_dataset.shape",
      "metadata": {},
      "execution_count": null,
      "outputs": []
    },
    {
      "cell_type": "code",
      "source": "# group by aircraft name\naircraftType = df_final_dataset.groupby('ACFT_MAKE_NAME')",
      "metadata": {},
      "execution_count": null,
      "outputs": []
    },
    {
      "cell_type": "code",
      "source": "# view them by aircraft using size method\naircraftType.size()",
      "metadata": {},
      "execution_count": null,
      "outputs": []
    },
    {
      "cell_type": "code",
      "source": "# group by fatal flag\nfatalAccidents = df_final_dataset.groupby('FATAL_FLAG')",
      "metadata": {},
      "execution_count": null,
      "outputs": []
    },
    {
      "cell_type": "code",
      "source": "# view the fatal accidents size\nfatalAccidents.size()",
      "metadata": {},
      "execution_count": null,
      "outputs": []
    },
    {
      "cell_type": "code",
      "source": "# select the accidents with fatality with fatal flag = 'Yes'\naccidents_with_fatality = fatalAccidents.getgroup('Yes')",
      "metadata": {},
      "execution_count": null,
      "outputs": []
    },
    {
      "cell_type": "code",
      "source": "# view accidents with fatality\naccidents_with_fatality",
      "metadata": {},
      "execution_count": null,
      "outputs": []
    },
    {
      "cell_type": "code",
      "source": "## Project 2",
      "metadata": {},
      "execution_count": null,
      "outputs": []
    },
    {
      "cell_type": "code",
      "source": "# read the dataset\ndf_fdny_csv_data_raw = pd.read_csv('C:\\\\dataset\\\\FDNY_firehouse_listing.csv')",
      "metadata": {},
      "execution_count": null,
      "outputs": []
    },
    {
      "cell_type": "code",
      "source": "# view contents of the data\ndf_fdny_csv_data_raw.describe",
      "metadata": {},
      "execution_count": null,
      "outputs": []
    },
    {
      "cell_type": "code",
      "source": "# see the first five elements \ndf_fdny_csv_data_raw.head(5)",
      "metadata": {},
      "execution_count": null,
      "outputs": []
    },
    {
      "cell_type": "code",
      "source": "# skip the first row of the dataset\ndf_fdny_csv_data = pd.read_csv('C:\\\\dataset\\\\FDNY_firehouse_listing.csv', skiprows=1)",
      "metadata": {},
      "execution_count": null,
      "outputs": []
    },
    {
      "cell_type": "code",
      "source": "# see the first five elements \ndf_fdny_csv_data.head(5)",
      "metadata": {},
      "execution_count": null,
      "outputs": []
    },
    {
      "cell_type": "code",
      "source": "# view data statistics using describe() method\ndf_fdny_csv_data.describe()\n\n# describe() gives you count, unique, top, freq; describe just depicts the description of the dataset",
      "metadata": {},
      "execution_count": null,
      "outputs": []
    },
    {
      "cell_type": "code",
      "source": "# view the columns of the dataset\ndf_fdny_csv_data.columns",
      "metadata": {},
      "execution_count": null,
      "outputs": []
    },
    {
      "cell_type": "code",
      "source": "# view the index of the dataset\ndf_fdny_csv_data.index",
      "metadata": {},
      "execution_count": null,
      "outputs": []
    },
    {
      "cell_type": "code",
      "source": "# count number of records\ndf_fdny_csv_data.count()",
      "metadata": {},
      "execution_count": null,
      "outputs": []
    },
    {
      "cell_type": "code",
      "source": "# view datatypes\ndf_fdny_csv_data.dtypes",
      "metadata": {},
      "execution_count": null,
      "outputs": []
    },
    {
      "cell_type": "code",
      "source": "# select FDNY information boroughwise\ngroupby_borough = df_fdny_csv_data.groupby('Borough')",
      "metadata": {},
      "execution_count": null,
      "outputs": []
    },
    {
      "cell_type": "code",
      "source": "# view FDNY information for each borough\ngroupby_borough.size()",
      "metadata": {},
      "execution_count": null,
      "outputs": []
    },
    {
      "cell_type": "code",
      "source": "# select FDNY information for Manhattan\nfdny_info_Manhattan = groupby_borough.get_group('Manhattan')",
      "metadata": {},
      "execution_count": null,
      "outputs": []
    },
    {
      "cell_type": "code",
      "source": "fdny_info_Manhattan",
      "metadata": {},
      "execution_count": null,
      "outputs": []
    },
    {
      "cell_type": "code",
      "source": "",
      "metadata": {},
      "execution_count": null,
      "outputs": []
    },
    {
      "cell_type": "code",
      "source": "",
      "metadata": {},
      "execution_count": null,
      "outputs": []
    }
  ]
}