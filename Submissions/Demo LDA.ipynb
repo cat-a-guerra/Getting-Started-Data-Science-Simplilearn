{
  "metadata": {
    "language_info": {
      "codemirror_mode": {
        "name": "python",
        "version": 3
      },
      "file_extension": ".py",
      "mimetype": "text/x-python",
      "name": "python",
      "nbconvert_exporter": "python",
      "pygments_lexer": "ipython3",
      "version": "3.8"
    },
    "kernelspec": {
      "name": "python",
      "display_name": "Python (Pyodide)",
      "language": "python"
    }
  },
  "nbformat_minor": 4,
  "nbformat": 4,
  "cells": [
    {
      "cell_type": "code",
      "source": "from mlxtend.data import iris_data\nfrom mlxtend.preprocessing import standardize\nfrom mlxtend.feature_extraction import LinearDiscriminantAnalysis",
      "metadata": {},
      "execution_count": null,
      "outputs": []
    },
    {
      "cell_type": "code",
      "source": "# define X as training and y as target variables\nX,y = iris_data()\n\n# standardize the x variable so that is aligned on the same scale with the output\nX = standardize(X)",
      "metadata": {},
      "execution_count": null,
      "outputs": []
    },
    {
      "cell_type": "code",
      "source": "# no of discriminants set to 2\nlda = LinearDiscriminantAnalysis(n_discriminants=2)\n\n# fit and transform the model in the data\nlda.fit(X,y)\nX_lda = transform(X)",
      "metadata": {},
      "execution_count": null,
      "outputs": []
    },
    {
      "cell_type": "code",
      "source": "X_lda",
      "metadata": {},
      "execution_count": null,
      "outputs": []
    }
  ]
}