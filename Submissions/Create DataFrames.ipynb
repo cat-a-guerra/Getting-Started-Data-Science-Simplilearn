{
  "metadata": {
    "language_info": {
      "codemirror_mode": {
        "name": "python",
        "version": 3
      },
      "file_extension": ".py",
      "mimetype": "text/x-python",
      "name": "python",
      "nbconvert_exporter": "python",
      "pygments_lexer": "ipython3",
      "version": "3.8"
    },
    "kernelspec": {
      "name": "python",
      "display_name": "Python (Pyodide)",
      "language": "python"
    }
  },
  "nbformat_minor": 4,
  "nbformat": 4,
  "cells": [
    {
      "cell_type": "code",
      "source": "import pandas as pd",
      "metadata": {
        "trusted": true
      },
      "execution_count": 2,
      "outputs": []
    },
    {
      "cell_type": "code",
      "source": "## Create DataFrames from lists\nolympic_data_list = {'HostCity': ['London', 'Beijing', 'Athens', 'Sydney', 'Atlanta'], \n                     'Year': [2012, 2008, 2004, 2000, 1996], \n                     'No. of Participating Countries': [205, 204, 201, 200, 197]\n                    }\n\ndf_olympic_data = pd.DataFrame(olympic_data_list)\ndf_olympic_data",
      "metadata": {
        "trusted": true
      },
      "execution_count": 3,
      "outputs": [
        {
          "execution_count": 3,
          "output_type": "execute_result",
          "data": {
            "text/plain": "  HostCity  Year  No. of Participating Countries\n0   London  2012                             205\n1  Beijing  2008                             204\n2   Athens  2004                             201\n3   Sydney  2000                             200\n4  Atlanta  1996                             197",
            "text/html": "<div>\n<style scoped>\n    .dataframe tbody tr th:only-of-type {\n        vertical-align: middle;\n    }\n\n    .dataframe tbody tr th {\n        vertical-align: top;\n    }\n\n    .dataframe thead th {\n        text-align: right;\n    }\n</style>\n<table border=\"1\" class=\"dataframe\">\n  <thead>\n    <tr style=\"text-align: right;\">\n      <th></th>\n      <th>HostCity</th>\n      <th>Year</th>\n      <th>No. of Participating Countries</th>\n    </tr>\n  </thead>\n  <tbody>\n    <tr>\n      <th>0</th>\n      <td>London</td>\n      <td>2012</td>\n      <td>205</td>\n    </tr>\n    <tr>\n      <th>1</th>\n      <td>Beijing</td>\n      <td>2008</td>\n      <td>204</td>\n    </tr>\n    <tr>\n      <th>2</th>\n      <td>Athens</td>\n      <td>2004</td>\n      <td>201</td>\n    </tr>\n    <tr>\n      <th>3</th>\n      <td>Sydney</td>\n      <td>2000</td>\n      <td>200</td>\n    </tr>\n    <tr>\n      <th>4</th>\n      <td>Atlanta</td>\n      <td>1996</td>\n      <td>197</td>\n    </tr>\n  </tbody>\n</table>\n</div>"
          },
          "metadata": {}
        }
      ]
    },
    {
      "cell_type": "code",
      "source": "## Create DataFrames from dictionaries\nolympic_data_dict = {'London': {2012:205}, 'Beijing': {2008:204}}\ndf_olympic_data_dict = pd.DataFrame(olympic_data_dict)\ndf_olympic_data_dict",
      "metadata": {
        "trusted": true
      },
      "execution_count": 4,
      "outputs": [
        {
          "execution_count": 4,
          "output_type": "execute_result",
          "data": {
            "text/plain": "      London  Beijing\n2012   205.0      NaN\n2008     NaN    204.0",
            "text/html": "<div>\n<style scoped>\n    .dataframe tbody tr th:only-of-type {\n        vertical-align: middle;\n    }\n\n    .dataframe tbody tr th {\n        vertical-align: top;\n    }\n\n    .dataframe thead th {\n        text-align: right;\n    }\n</style>\n<table border=\"1\" class=\"dataframe\">\n  <thead>\n    <tr style=\"text-align: right;\">\n      <th></th>\n      <th>London</th>\n      <th>Beijing</th>\n    </tr>\n  </thead>\n  <tbody>\n    <tr>\n      <th>2012</th>\n      <td>205.0</td>\n      <td>NaN</td>\n    </tr>\n    <tr>\n      <th>2008</th>\n      <td>NaN</td>\n      <td>204.0</td>\n    </tr>\n  </tbody>\n</table>\n</div>"
          },
          "metadata": {}
        }
      ]
    },
    {
      "cell_type": "code",
      "source": "## View DataFrames\n# by column\ndf_olympic_data.HostCity",
      "metadata": {
        "trusted": true
      },
      "execution_count": 5,
      "outputs": [
        {
          "execution_count": 5,
          "output_type": "execute_result",
          "data": {
            "text/plain": "0     London\n1    Beijing\n2     Athens\n3     Sydney\n4    Atlanta\nName: HostCity, dtype: object"
          },
          "metadata": {}
        }
      ]
    },
    {
      "cell_type": "code",
      "source": "# with describe function\ndf_olympic_data.describe",
      "metadata": {
        "trusted": true
      },
      "execution_count": 6,
      "outputs": [
        {
          "execution_count": 6,
          "output_type": "execute_result",
          "data": {
            "text/plain": "<bound method NDFrame.describe of   HostCity  Year  No. of Participating Countries\n0   London  2012                             205\n1  Beijing  2008                             204\n2   Athens  2004                             201\n3   Sydney  2000                             200\n4  Atlanta  1996                             197>"
          },
          "metadata": {}
        }
      ]
    },
    {
      "cell_type": "code",
      "source": "## Create DataFrames from dictionary of series\nolympic_series_participation = pd.Series([205, 204, 201, 200, 197], index=[2012, 2008, 2004, 2000, 1996])\nolympic_series_country = pd.Series(['London', 'Beijing', 'Athens', 'Sydney', 'Atlanta'], index=[2012, 2008, 2004, 2000, 1996])\n\ndf_olympic_series = pd.DataFrame({'No. of Participating Countries': olympic_series_participation, 'Host Cities': olympic_series_country})\ndf_olympic_series",
      "metadata": {
        "trusted": true
      },
      "execution_count": 7,
      "outputs": [
        {
          "execution_count": 7,
          "output_type": "execute_result",
          "data": {
            "text/plain": "      No. of Participating Countries Host Cities\n2012                             205      London\n2008                             204     Beijing\n2004                             201      Athens\n2000                             200      Sydney\n1996                             197     Atlanta",
            "text/html": "<div>\n<style scoped>\n    .dataframe tbody tr th:only-of-type {\n        vertical-align: middle;\n    }\n\n    .dataframe tbody tr th {\n        vertical-align: top;\n    }\n\n    .dataframe thead th {\n        text-align: right;\n    }\n</style>\n<table border=\"1\" class=\"dataframe\">\n  <thead>\n    <tr style=\"text-align: right;\">\n      <th></th>\n      <th>No. of Participating Countries</th>\n      <th>Host Cities</th>\n    </tr>\n  </thead>\n  <tbody>\n    <tr>\n      <th>2012</th>\n      <td>205</td>\n      <td>London</td>\n    </tr>\n    <tr>\n      <th>2008</th>\n      <td>204</td>\n      <td>Beijing</td>\n    </tr>\n    <tr>\n      <th>2004</th>\n      <td>201</td>\n      <td>Athens</td>\n    </tr>\n    <tr>\n      <th>2000</th>\n      <td>200</td>\n      <td>Sydney</td>\n    </tr>\n    <tr>\n      <th>1996</th>\n      <td>197</td>\n      <td>Atlanta</td>\n    </tr>\n  </tbody>\n</table>\n</div>"
          },
          "metadata": {}
        }
      ]
    },
    {
      "cell_type": "code",
      "source": "## Create DataFrames from array\nimport numpy as np",
      "metadata": {
        "trusted": true
      },
      "execution_count": 12,
      "outputs": []
    },
    {
      "cell_type": "code",
      "source": "np_array = np.array([2012, 2008, 2004, 2000, 1996])  # create array and then pass it into the dictionary\ndict_ndarray = {'year': np_array}",
      "metadata": {
        "trusted": true
      },
      "execution_count": 13,
      "outputs": []
    },
    {
      "cell_type": "code",
      "source": "df_ndarray = pd.DataFrame(dict_ndarray)  # pass the dictionary into the DataFrame method\ndf_ndarray",
      "metadata": {
        "trusted": true
      },
      "execution_count": 14,
      "outputs": [
        {
          "execution_count": 14,
          "output_type": "execute_result",
          "data": {
            "text/plain": "   year\n0  2012\n1  2008\n2  2004\n3  2000\n4  1996",
            "text/html": "<div>\n<style scoped>\n    .dataframe tbody tr th:only-of-type {\n        vertical-align: middle;\n    }\n\n    .dataframe tbody tr th {\n        vertical-align: top;\n    }\n\n    .dataframe thead th {\n        text-align: right;\n    }\n</style>\n<table border=\"1\" class=\"dataframe\">\n  <thead>\n    <tr style=\"text-align: right;\">\n      <th></th>\n      <th>year</th>\n    </tr>\n  </thead>\n  <tbody>\n    <tr>\n      <th>0</th>\n      <td>2012</td>\n    </tr>\n    <tr>\n      <th>1</th>\n      <td>2008</td>\n    </tr>\n    <tr>\n      <th>2</th>\n      <td>2004</td>\n    </tr>\n    <tr>\n      <th>3</th>\n      <td>2000</td>\n    </tr>\n    <tr>\n      <th>4</th>\n      <td>1996</td>\n    </tr>\n  </tbody>\n</table>\n</div>"
          },
          "metadata": {}
        }
      ]
    },
    {
      "cell_type": "code",
      "source": "## Create DataFrames from DataFrame\ndf_from_df = pd.DataFrame(df_olympic_series)\ndf_from_df",
      "metadata": {
        "trusted": true
      },
      "execution_count": 15,
      "outputs": [
        {
          "execution_count": 15,
          "output_type": "execute_result",
          "data": {
            "text/plain": "      No. of Participating Countries Host Cities\n2012                             205      London\n2008                             204     Beijing\n2004                             201      Athens\n2000                             200      Sydney\n1996                             197     Atlanta",
            "text/html": "<div>\n<style scoped>\n    .dataframe tbody tr th:only-of-type {\n        vertical-align: middle;\n    }\n\n    .dataframe tbody tr th {\n        vertical-align: top;\n    }\n\n    .dataframe thead th {\n        text-align: right;\n    }\n</style>\n<table border=\"1\" class=\"dataframe\">\n  <thead>\n    <tr style=\"text-align: right;\">\n      <th></th>\n      <th>No. of Participating Countries</th>\n      <th>Host Cities</th>\n    </tr>\n  </thead>\n  <tbody>\n    <tr>\n      <th>2012</th>\n      <td>205</td>\n      <td>London</td>\n    </tr>\n    <tr>\n      <th>2008</th>\n      <td>204</td>\n      <td>Beijing</td>\n    </tr>\n    <tr>\n      <th>2004</th>\n      <td>201</td>\n      <td>Athens</td>\n    </tr>\n    <tr>\n      <th>2000</th>\n      <td>200</td>\n      <td>Sydney</td>\n    </tr>\n    <tr>\n      <th>1996</th>\n      <td>197</td>\n      <td>Atlanta</td>\n    </tr>\n  </tbody>\n</table>\n</div>"
          },
          "metadata": {}
        }
      ]
    },
    {
      "cell_type": "code",
      "source": "",
      "metadata": {},
      "execution_count": null,
      "outputs": []
    }
  ]
}