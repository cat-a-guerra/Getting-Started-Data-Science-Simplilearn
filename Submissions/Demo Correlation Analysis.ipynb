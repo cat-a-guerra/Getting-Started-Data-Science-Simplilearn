{
  "metadata": {
    "language_info": {
      "codemirror_mode": {
        "name": "python",
        "version": 3
      },
      "file_extension": ".py",
      "mimetype": "text/x-python",
      "name": "python",
      "nbconvert_exporter": "python",
      "pygments_lexer": "ipython3",
      "version": "3.8"
    },
    "kernelspec": {
      "name": "python",
      "display_name": "Python (Pyodide)",
      "language": "python"
    }
  },
  "nbformat_minor": 4,
  "nbformat": 4,
  "cells": [
    {
      "cell_type": "code",
      "source": "import pandas as pd\ndf = pd.read_csv('middle_tn_schools.csv')\ndf.describe()                                       # statistically explore the dataframe",
      "metadata": {},
      "execution_count": null,
      "outputs": []
    },
    {
      "cell_type": "code",
      "source": "df[['reduced_lunch', 'school_rating']].groupby(['school_rating']).describe().unstack()\n\n# data distribution of the former in respect to the latter\n# unstack to represent data differently --> columns will be rows",
      "metadata": {},
      "execution_count": null,
      "outputs": []
    },
    {
      "cell_type": "code",
      "source": "# find the correlation between the two extracted variables\ndf[['reduced_lunch', 'school_rating']].corr()\n\n# it returns a correlation matrix",
      "metadata": {},
      "execution_count": null,
      "outputs": []
    },
    {
      "cell_type": "code",
      "source": "",
      "metadata": {},
      "execution_count": null,
      "outputs": []
    }
  ]
}