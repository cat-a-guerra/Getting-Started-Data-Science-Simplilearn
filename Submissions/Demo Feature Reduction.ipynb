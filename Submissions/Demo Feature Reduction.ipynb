{
  "metadata": {
    "language_info": {
      "codemirror_mode": {
        "name": "python",
        "version": 3
      },
      "file_extension": ".py",
      "mimetype": "text/x-python",
      "name": "python",
      "nbconvert_exporter": "python",
      "pygments_lexer": "ipython3",
      "version": "3.8"
    },
    "kernelspec": {
      "name": "python",
      "display_name": "Python (Pyodide)",
      "language": "python"
    }
  },
  "nbformat_minor": 4,
  "nbformat": 4,
  "cells": [
    {
      "cell_type": "code",
      "source": "# import relevant libraries\nimport sklearn\nfrom sklearn.datasets import load_iris",
      "metadata": {},
      "execution_count": null,
      "outputs": []
    },
    {
      "cell_type": "code",
      "source": "# load the data\ndata = load_iris()",
      "metadata": {},
      "execution_count": null,
      "outputs": []
    },
    {
      "cell_type": "code",
      "source": "# define x and y as training and target variables\nx = data.data\ny = data.target",
      "metadata": {},
      "execution_count": null,
      "outputs": []
    },
    {
      "cell_type": "code",
      "source": "# split data into train and test sets\nfrom sklearn.model_selection import train_test_split\nx_train, y_train, x_test, y_test = train_test_split(x, y, test_size=0.2, random_state=1)",
      "metadata": {},
      "execution_count": null,
      "outputs": []
    },
    {
      "cell_type": "code",
      "source": "# size of the training data - rows and columns\nprint(x_train.shape)",
      "metadata": {},
      "execution_count": null,
      "outputs": []
    },
    {
      "cell_type": "code",
      "source": "# logistic regression classifier\nfrom sklearn.linear_model import LogisticRegression",
      "metadata": {},
      "execution_count": null,
      "outputs": []
    },
    {
      "cell_type": "code",
      "source": "lr = LogisticRegression()\nlr.fit(x_train, y_train)     # fit the model into the training set",
      "metadata": {},
      "execution_count": null,
      "outputs": []
    },
    {
      "cell_type": "code",
      "source": "# prediction\ny_predict = lr.predict(x_test)",
      "metadata": {},
      "execution_count": null,
      "outputs": []
    },
    {
      "cell_type": "code",
      "source": "# compare the results - see predictive power of the model (accuracy)\nfrom sklearn.metrics import accuracy_score\naccuracy = accuracy_score(y_predict, y_test)",
      "metadata": {},
      "execution_count": null,
      "outputs": []
    },
    {
      "cell_type": "code",
      "source": "print(accuracy)",
      "metadata": {},
      "execution_count": null,
      "outputs": []
    },
    {
      "cell_type": "code",
      "source": "# if we implement more relevant features, the accuracy will improve --> PCA",
      "metadata": {},
      "execution_count": null,
      "outputs": []
    },
    {
      "cell_type": "code",
      "source": "from sklearn.decomposition import PCA",
      "metadata": {},
      "execution_count": null,
      "outputs": []
    },
    {
      "cell_type": "code",
      "source": "# PCA will reduce the number of components originally present in our data to a certain number such that explains 95% of the variance\nsklearn_pca = PCA(n_components=0.95)",
      "metadata": {},
      "execution_count": null,
      "outputs": []
    },
    {
      "cell_type": "code",
      "source": "# fit into the training data\nsklearn_pca.fit(x_train)",
      "metadata": {},
      "execution_count": null,
      "outputs": []
    },
    {
      "cell_type": "code",
      "source": "# transform the training data\nx_train_transformed = sklearn_pca.transform(x_train)",
      "metadata": {},
      "execution_count": null,
      "outputs": []
    },
    {
      "cell_type": "code",
      "source": "# shape of the transformed training data\nprint(x_train_transformed.shape)",
      "metadata": {},
      "execution_count": null,
      "outputs": []
    },
    {
      "cell_type": "code",
      "source": "# shape of the test data\nprint(x_test.shape)",
      "metadata": {},
      "execution_count": null,
      "outputs": []
    },
    {
      "cell_type": "code",
      "source": "# transform the test data\nx_test_transformed = sklearn_pca.transform(x_test)\nprint(x_test_transformed.shape)",
      "metadata": {},
      "execution_count": null,
      "outputs": []
    },
    {
      "cell_type": "code",
      "source": "# implement the model over the transformed data\nlr = LogisticRegression(penalty='l1')",
      "metadata": {},
      "execution_count": null,
      "outputs": []
    },
    {
      "cell_type": "code",
      "source": "# fit the model over the transformed training dataset\nlr.fit(x_train_transformed, y_train)",
      "metadata": {},
      "execution_count": null,
      "outputs": []
    },
    {
      "cell_type": "code",
      "source": "# prediction over the transformed test data\ny_predict = lr.predict(x_test_transformed)",
      "metadata": {},
      "execution_count": null,
      "outputs": []
    },
    {
      "cell_type": "code",
      "source": "# compare the results - see predictive power of the model (accuracy)\nfrom sklearn.metrics import accuracy_score\naccuracy = accuracy_score(y_predict, y_test)\nprint(accuracy)",
      "metadata": {},
      "execution_count": null,
      "outputs": []
    }
  ]
}